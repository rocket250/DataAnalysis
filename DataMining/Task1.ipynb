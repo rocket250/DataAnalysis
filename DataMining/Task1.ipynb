{
 "cells": [
  {
   "cell_type": "markdown",
   "metadata": {
    "heading_collapsed": true
   },
   "source": [
    "# 系统默认编码"
   ]
  },
  {
   "cell_type": "code",
   "execution_count": 1,
   "metadata": {
    "ExecuteTime": {
     "end_time": "2019-03-01T22:29:46.351000Z",
     "start_time": "2019-03-01T22:29:46.344000Z"
    },
    "hidden": true
   },
   "outputs": [],
   "source": [
    "import sys\n",
    "stdout = sys.stdout\n",
    "reload(sys)\n",
    "sys.setdefaultencoding(\"utf-8\")\n",
    "sys.stdout = stdout"
   ]
  },
  {
   "cell_type": "markdown",
   "metadata": {
    "heading_collapsed": true
   },
   "source": [
    "# 导入库"
   ]
  },
  {
   "cell_type": "code",
   "execution_count": 2,
   "metadata": {
    "ExecuteTime": {
     "end_time": "2019-03-01T22:29:46.580000Z",
     "start_time": "2019-03-01T22:29:46.353000Z"
    },
    "hidden": true
   },
   "outputs": [],
   "source": [
    "import numpy as np\n",
    "import pandas as pd "
   ]
  },
  {
   "cell_type": "markdown",
   "metadata": {},
   "source": [
    "# 读取数据"
   ]
  },
  {
   "cell_type": "markdown",
   "metadata": {
    "heading_collapsed": true
   },
   "source": [
    "## 获取表头"
   ]
  },
  {
   "cell_type": "code",
   "execution_count": 3,
   "metadata": {
    "ExecuteTime": {
     "end_time": "2019-03-01T22:29:46.587000Z",
     "start_time": "2019-03-01T22:29:46.584000Z"
    },
    "hidden": true
   },
   "outputs": [],
   "source": [
    "f = open(\"./data.csv\", \"r\")\n",
    "line = f.readline()\n",
    "f.close()"
   ]
  },
  {
   "cell_type": "code",
   "execution_count": 4,
   "metadata": {
    "ExecuteTime": {
     "end_time": "2019-03-01T22:29:46.594000Z",
     "start_time": "2019-03-01T22:29:46.590000Z"
    },
    "hidden": true
   },
   "outputs": [],
   "source": [
    "# 获取表头的列名\n",
    "headerList = line.replace('\",\"', ',').split(\",\")\n",
    "headerList[0] = \"id\"\n",
    "headerList[-1] = headerList[-1].strip()[0:-1]"
   ]
  },
  {
   "cell_type": "code",
   "execution_count": 5,
   "metadata": {
    "ExecuteTime": {
     "end_time": "2019-03-01T22:29:46.602000Z",
     "start_time": "2019-03-01T22:29:46.597000Z"
    },
    "hidden": true
   },
   "outputs": [
    {
     "name": "stdout",
     "output_type": "stream",
     "text": [
      "['id', 'custid', 'trade_no', 'bank_card_no', 'low_volume_percent', 'middle_volume_percent', 'take_amount_in_later_12_month_highest', 'trans_amount_increase_rate_lately', 'trans_activity_month', 'trans_activity_day', 'transd_mcc', 'trans_days_interval_filter', 'trans_days_interval', 'regional_mobility', 'student_feature', 'repayment_capability', 'is_high_user', 'number_of_trans_from_2011', 'first_transaction_time', 'historical_trans_amount', 'historical_trans_day', 'rank_trad_1_month', 'trans_amount_3_month', 'avg_consume_less_12_valid_month', 'abs', 'top_trans_count_last_1_month', 'avg_price_last_12_month', 'avg_price_top_last_12_valid_month', 'reg_preference_for_trad', 'trans_top_time_last_1_month', 'trans_top_time_last_6_month', 'consume_top_time_last_1_month', 'consume_top_time_last_6_month', 'cross_consume_count_last_1_month', 'trans_fail_top_count_enum_last_1_month', 'trans_fail_top_count_enum_last_6_month', 'trans_fail_top_count_enum_last_12_month', 'consume_mini_time_last_1_month', 'max_cumulative_consume_later_1_month', 'max_consume_count_later_6_month', 'railway_consume_count_last_12_month', 'pawns_auctions_trusts_consume_last_1_month', 'pawns_auctions_trusts_consume_last_6_month', 'jewelry_consume_count_last_6_month', 'status', 'source', 'first_transaction_day', 'trans_day_last_12_month', 'id_name', 'apply_score', 'apply_credibility', 'query_org_count', 'query_finance_count', 'query_cash_count', 'query_sum_count', 'latest_query_time', 'latest_one_month_apply', 'latest_three_month_apply', 'latest_six_month_apply', 'loans_score', 'loans_credibility_behavior', 'loans_count', 'loans_settle_count', 'loans_overdue_count', 'loans_org_count_behavior', 'consfin_org_count_behavior', 'loans_cash_count', 'latest_one_month_loan', 'latest_three_month_loan', 'latest_six_month_loan', 'history_suc_fee', 'history_fail_fee', 'latest_one_month_suc', 'latest_one_month_fail', 'loans_long_time', 'loans_latest_time', 'loans_credit_limit', 'loans_credibility_limit', 'loans_org_count_current', 'loans_product_count', 'loans_max_limit', 'loans_avg_limit', 'consfin_credit_limit', 'consfin_credibility', 'consfin_org_count_current', 'consfin_product_count', 'consfin_max_limit', 'consfin_avg_limit', 'latest_query_day', 'loans_latest_day']\n"
     ]
    }
   ],
   "source": [
    "# 打印列名\n",
    "print headerList"
   ]
  },
  {
   "cell_type": "markdown",
   "metadata": {
    "heading_collapsed": true
   },
   "source": [
    "## pandas读取csv文件，并转换为DataFrame"
   ]
  },
  {
   "cell_type": "code",
   "execution_count": 6,
   "metadata": {
    "ExecuteTime": {
     "end_time": "2019-03-01T22:29:46.666000Z",
     "start_time": "2019-03-01T22:29:46.604000Z"
    },
    "hidden": true
   },
   "outputs": [],
   "source": [
    "dataSet = pd.read_csv(\"./data.csv\", delimiter = \",\", encoding = \"GB18030\", skiprows=1, names = headerList)"
   ]
  },
  {
   "cell_type": "markdown",
   "metadata": {},
   "source": [
    "## 数据预览"
   ]
  },
  {
   "cell_type": "markdown",
   "metadata": {
    "heading_collapsed": true
   },
   "source": [
    "### 打印首尾数行"
   ]
  },
  {
   "cell_type": "code",
   "execution_count": 7,
   "metadata": {
    "ExecuteTime": {
     "end_time": "2019-03-01T22:29:46.699000Z",
     "start_time": "2019-03-01T22:29:46.667000Z"
    },
    "hidden": true
   },
   "outputs": [
    {
     "data": {
      "text/html": [
       "<div>\n",
       "<style scoped>\n",
       "    .dataframe tbody tr th:only-of-type {\n",
       "        vertical-align: middle;\n",
       "    }\n",
       "\n",
       "    .dataframe tbody tr th {\n",
       "        vertical-align: top;\n",
       "    }\n",
       "\n",
       "    .dataframe thead th {\n",
       "        text-align: right;\n",
       "    }\n",
       "</style>\n",
       "<table border=\"1\" class=\"dataframe\">\n",
       "  <thead>\n",
       "    <tr style=\"text-align: right;\">\n",
       "      <th></th>\n",
       "      <th>id</th>\n",
       "      <th>custid</th>\n",
       "      <th>trade_no</th>\n",
       "      <th>bank_card_no</th>\n",
       "      <th>low_volume_percent</th>\n",
       "      <th>middle_volume_percent</th>\n",
       "      <th>take_amount_in_later_12_month_highest</th>\n",
       "      <th>trans_amount_increase_rate_lately</th>\n",
       "      <th>trans_activity_month</th>\n",
       "      <th>trans_activity_day</th>\n",
       "      <th>...</th>\n",
       "      <th>loans_max_limit</th>\n",
       "      <th>loans_avg_limit</th>\n",
       "      <th>consfin_credit_limit</th>\n",
       "      <th>consfin_credibility</th>\n",
       "      <th>consfin_org_count_current</th>\n",
       "      <th>consfin_product_count</th>\n",
       "      <th>consfin_max_limit</th>\n",
       "      <th>consfin_avg_limit</th>\n",
       "      <th>latest_query_day</th>\n",
       "      <th>loans_latest_day</th>\n",
       "    </tr>\n",
       "  </thead>\n",
       "  <tbody>\n",
       "    <tr>\n",
       "      <th>0</th>\n",
       "      <td>5</td>\n",
       "      <td>2791858</td>\n",
       "      <td>20180507115231274000000023057383</td>\n",
       "      <td>卡号1</td>\n",
       "      <td>0.01</td>\n",
       "      <td>0.99</td>\n",
       "      <td>0</td>\n",
       "      <td>0.90</td>\n",
       "      <td>0.55</td>\n",
       "      <td>0.313</td>\n",
       "      <td>...</td>\n",
       "      <td>2900.0</td>\n",
       "      <td>1688.0</td>\n",
       "      <td>1200.0</td>\n",
       "      <td>75.0</td>\n",
       "      <td>1.0</td>\n",
       "      <td>2.0</td>\n",
       "      <td>1200.0</td>\n",
       "      <td>1200.0</td>\n",
       "      <td>12.0</td>\n",
       "      <td>18.0</td>\n",
       "    </tr>\n",
       "    <tr>\n",
       "      <th>1</th>\n",
       "      <td>10</td>\n",
       "      <td>534047</td>\n",
       "      <td>20180507121002192000000023073000</td>\n",
       "      <td>卡号1</td>\n",
       "      <td>0.02</td>\n",
       "      <td>0.94</td>\n",
       "      <td>2000</td>\n",
       "      <td>1.28</td>\n",
       "      <td>1.00</td>\n",
       "      <td>0.458</td>\n",
       "      <td>...</td>\n",
       "      <td>3500.0</td>\n",
       "      <td>1758.0</td>\n",
       "      <td>15100.0</td>\n",
       "      <td>80.0</td>\n",
       "      <td>5.0</td>\n",
       "      <td>6.0</td>\n",
       "      <td>22800.0</td>\n",
       "      <td>9360.0</td>\n",
       "      <td>4.0</td>\n",
       "      <td>2.0</td>\n",
       "    </tr>\n",
       "    <tr>\n",
       "      <th>2</th>\n",
       "      <td>12</td>\n",
       "      <td>2849787</td>\n",
       "      <td>20180507125159718000000023114911</td>\n",
       "      <td>卡号1</td>\n",
       "      <td>0.04</td>\n",
       "      <td>0.96</td>\n",
       "      <td>0</td>\n",
       "      <td>1.00</td>\n",
       "      <td>1.00</td>\n",
       "      <td>0.114</td>\n",
       "      <td>...</td>\n",
       "      <td>1600.0</td>\n",
       "      <td>1250.0</td>\n",
       "      <td>4200.0</td>\n",
       "      <td>87.0</td>\n",
       "      <td>1.0</td>\n",
       "      <td>1.0</td>\n",
       "      <td>4200.0</td>\n",
       "      <td>4200.0</td>\n",
       "      <td>2.0</td>\n",
       "      <td>6.0</td>\n",
       "    </tr>\n",
       "    <tr>\n",
       "      <th>3</th>\n",
       "      <td>13</td>\n",
       "      <td>1809708</td>\n",
       "      <td>20180507121358683000000388283484</td>\n",
       "      <td>卡号1</td>\n",
       "      <td>0.00</td>\n",
       "      <td>0.96</td>\n",
       "      <td>2000</td>\n",
       "      <td>0.13</td>\n",
       "      <td>0.57</td>\n",
       "      <td>0.777</td>\n",
       "      <td>...</td>\n",
       "      <td>3200.0</td>\n",
       "      <td>1541.0</td>\n",
       "      <td>16300.0</td>\n",
       "      <td>80.0</td>\n",
       "      <td>5.0</td>\n",
       "      <td>5.0</td>\n",
       "      <td>30000.0</td>\n",
       "      <td>12180.0</td>\n",
       "      <td>2.0</td>\n",
       "      <td>4.0</td>\n",
       "    </tr>\n",
       "    <tr>\n",
       "      <th>4</th>\n",
       "      <td>14</td>\n",
       "      <td>2499829</td>\n",
       "      <td>20180507115448545000000388205844</td>\n",
       "      <td>卡号1</td>\n",
       "      <td>0.01</td>\n",
       "      <td>0.99</td>\n",
       "      <td>0</td>\n",
       "      <td>0.46</td>\n",
       "      <td>1.00</td>\n",
       "      <td>0.175</td>\n",
       "      <td>...</td>\n",
       "      <td>2300.0</td>\n",
       "      <td>1630.0</td>\n",
       "      <td>8300.0</td>\n",
       "      <td>79.0</td>\n",
       "      <td>2.0</td>\n",
       "      <td>2.0</td>\n",
       "      <td>8400.0</td>\n",
       "      <td>8250.0</td>\n",
       "      <td>22.0</td>\n",
       "      <td>120.0</td>\n",
       "    </tr>\n",
       "  </tbody>\n",
       "</table>\n",
       "<p>5 rows × 90 columns</p>\n",
       "</div>"
      ],
      "text/plain": [
       "   id   custid                          trade_no bank_card_no  \\\n",
       "0   5  2791858  20180507115231274000000023057383          卡号1   \n",
       "1  10   534047  20180507121002192000000023073000          卡号1   \n",
       "2  12  2849787  20180507125159718000000023114911          卡号1   \n",
       "3  13  1809708  20180507121358683000000388283484          卡号1   \n",
       "4  14  2499829  20180507115448545000000388205844          卡号1   \n",
       "\n",
       "   low_volume_percent  middle_volume_percent  \\\n",
       "0                0.01                   0.99   \n",
       "1                0.02                   0.94   \n",
       "2                0.04                   0.96   \n",
       "3                0.00                   0.96   \n",
       "4                0.01                   0.99   \n",
       "\n",
       "   take_amount_in_later_12_month_highest  trans_amount_increase_rate_lately  \\\n",
       "0                                      0                               0.90   \n",
       "1                                   2000                               1.28   \n",
       "2                                      0                               1.00   \n",
       "3                                   2000                               0.13   \n",
       "4                                      0                               0.46   \n",
       "\n",
       "   trans_activity_month  trans_activity_day        ...         \\\n",
       "0                  0.55               0.313        ...          \n",
       "1                  1.00               0.458        ...          \n",
       "2                  1.00               0.114        ...          \n",
       "3                  0.57               0.777        ...          \n",
       "4                  1.00               0.175        ...          \n",
       "\n",
       "   loans_max_limit  loans_avg_limit  consfin_credit_limit  \\\n",
       "0           2900.0           1688.0                1200.0   \n",
       "1           3500.0           1758.0               15100.0   \n",
       "2           1600.0           1250.0                4200.0   \n",
       "3           3200.0           1541.0               16300.0   \n",
       "4           2300.0           1630.0                8300.0   \n",
       "\n",
       "   consfin_credibility  consfin_org_count_current  consfin_product_count  \\\n",
       "0                 75.0                        1.0                    2.0   \n",
       "1                 80.0                        5.0                    6.0   \n",
       "2                 87.0                        1.0                    1.0   \n",
       "3                 80.0                        5.0                    5.0   \n",
       "4                 79.0                        2.0                    2.0   \n",
       "\n",
       "   consfin_max_limit  consfin_avg_limit  latest_query_day  loans_latest_day  \n",
       "0             1200.0             1200.0              12.0              18.0  \n",
       "1            22800.0             9360.0               4.0               2.0  \n",
       "2             4200.0             4200.0               2.0               6.0  \n",
       "3            30000.0            12180.0               2.0               4.0  \n",
       "4             8400.0             8250.0              22.0             120.0  \n",
       "\n",
       "[5 rows x 90 columns]"
      ]
     },
     "execution_count": 7,
     "metadata": {},
     "output_type": "execute_result"
    }
   ],
   "source": [
    "# 前5行\n",
    "dataSet.head(5)"
   ]
  },
  {
   "cell_type": "code",
   "execution_count": 8,
   "metadata": {
    "ExecuteTime": {
     "end_time": "2019-03-01T22:29:46.729000Z",
     "start_time": "2019-03-01T22:29:46.702000Z"
    },
    "hidden": true,
    "scrolled": true
   },
   "outputs": [
    {
     "data": {
      "text/html": [
       "<div>\n",
       "<style scoped>\n",
       "    .dataframe tbody tr th:only-of-type {\n",
       "        vertical-align: middle;\n",
       "    }\n",
       "\n",
       "    .dataframe tbody tr th {\n",
       "        vertical-align: top;\n",
       "    }\n",
       "\n",
       "    .dataframe thead th {\n",
       "        text-align: right;\n",
       "    }\n",
       "</style>\n",
       "<table border=\"1\" class=\"dataframe\">\n",
       "  <thead>\n",
       "    <tr style=\"text-align: right;\">\n",
       "      <th></th>\n",
       "      <th>id</th>\n",
       "      <th>custid</th>\n",
       "      <th>trade_no</th>\n",
       "      <th>bank_card_no</th>\n",
       "      <th>low_volume_percent</th>\n",
       "      <th>middle_volume_percent</th>\n",
       "      <th>take_amount_in_later_12_month_highest</th>\n",
       "      <th>trans_amount_increase_rate_lately</th>\n",
       "      <th>trans_activity_month</th>\n",
       "      <th>trans_activity_day</th>\n",
       "      <th>...</th>\n",
       "      <th>loans_max_limit</th>\n",
       "      <th>loans_avg_limit</th>\n",
       "      <th>consfin_credit_limit</th>\n",
       "      <th>consfin_credibility</th>\n",
       "      <th>consfin_org_count_current</th>\n",
       "      <th>consfin_product_count</th>\n",
       "      <th>consfin_max_limit</th>\n",
       "      <th>consfin_avg_limit</th>\n",
       "      <th>latest_query_day</th>\n",
       "      <th>loans_latest_day</th>\n",
       "    </tr>\n",
       "  </thead>\n",
       "  <tbody>\n",
       "    <tr>\n",
       "      <th>4749</th>\n",
       "      <td>11978</td>\n",
       "      <td>3269862</td>\n",
       "      <td>20180507120519228000000388247328</td>\n",
       "      <td>卡号1</td>\n",
       "      <td>0.05</td>\n",
       "      <td>0.68</td>\n",
       "      <td>1000</td>\n",
       "      <td>0.87</td>\n",
       "      <td>0.94</td>\n",
       "      <td>0.150</td>\n",
       "      <td>...</td>\n",
       "      <td>0.0</td>\n",
       "      <td>0.0</td>\n",
       "      <td>49200.0</td>\n",
       "      <td>78.0</td>\n",
       "      <td>1.0</td>\n",
       "      <td>1.0</td>\n",
       "      <td>49200.0</td>\n",
       "      <td>49200.0</td>\n",
       "      <td>44.0</td>\n",
       "      <td>58.0</td>\n",
       "    </tr>\n",
       "    <tr>\n",
       "      <th>4750</th>\n",
       "      <td>11986</td>\n",
       "      <td>270952</td>\n",
       "      <td>20180507114937914000000388192877</td>\n",
       "      <td>卡号1</td>\n",
       "      <td>0.01</td>\n",
       "      <td>0.99</td>\n",
       "      <td>400</td>\n",
       "      <td>0.93</td>\n",
       "      <td>0.98</td>\n",
       "      <td>0.605</td>\n",
       "      <td>...</td>\n",
       "      <td>5000.0</td>\n",
       "      <td>1952.0</td>\n",
       "      <td>10100.0</td>\n",
       "      <td>78.0</td>\n",
       "      <td>7.0</td>\n",
       "      <td>8.0</td>\n",
       "      <td>19200.0</td>\n",
       "      <td>7500.0</td>\n",
       "      <td>17.0</td>\n",
       "      <td>55.0</td>\n",
       "    </tr>\n",
       "    <tr>\n",
       "      <th>4751</th>\n",
       "      <td>11988</td>\n",
       "      <td>2425913</td>\n",
       "      <td>20180507121340509000000388278785</td>\n",
       "      <td>卡号1</td>\n",
       "      <td>0.00</td>\n",
       "      <td>1.00</td>\n",
       "      <td>3000</td>\n",
       "      <td>0.54</td>\n",
       "      <td>0.64</td>\n",
       "      <td>0.313</td>\n",
       "      <td>...</td>\n",
       "      <td>3300.0</td>\n",
       "      <td>1540.0</td>\n",
       "      <td>7600.0</td>\n",
       "      <td>79.0</td>\n",
       "      <td>8.0</td>\n",
       "      <td>8.0</td>\n",
       "      <td>21000.0</td>\n",
       "      <td>7250.0</td>\n",
       "      <td>18.0</td>\n",
       "      <td>55.0</td>\n",
       "    </tr>\n",
       "    <tr>\n",
       "      <th>4752</th>\n",
       "      <td>11991</td>\n",
       "      <td>471395</td>\n",
       "      <td>20180504161827128000000381357758</td>\n",
       "      <td>卡号1</td>\n",
       "      <td>0.05</td>\n",
       "      <td>0.95</td>\n",
       "      <td>0</td>\n",
       "      <td>4.79</td>\n",
       "      <td>1.00</td>\n",
       "      <td>0.458</td>\n",
       "      <td>...</td>\n",
       "      <td>1900.0</td>\n",
       "      <td>1216.0</td>\n",
       "      <td>7100.0</td>\n",
       "      <td>79.0</td>\n",
       "      <td>8.0</td>\n",
       "      <td>11.0</td>\n",
       "      <td>12000.0</td>\n",
       "      <td>3950.0</td>\n",
       "      <td>55.0</td>\n",
       "      <td>16.0</td>\n",
       "    </tr>\n",
       "    <tr>\n",
       "      <th>4753</th>\n",
       "      <td>11992</td>\n",
       "      <td>1881943</td>\n",
       "      <td>20180507124243041000000388391027</td>\n",
       "      <td>卡号1</td>\n",
       "      <td>0.01</td>\n",
       "      <td>0.99</td>\n",
       "      <td>1300</td>\n",
       "      <td>21.35</td>\n",
       "      <td>1.00</td>\n",
       "      <td>0.372</td>\n",
       "      <td>...</td>\n",
       "      <td>4000.0</td>\n",
       "      <td>2180.0</td>\n",
       "      <td>4500.0</td>\n",
       "      <td>74.0</td>\n",
       "      <td>5.0</td>\n",
       "      <td>5.0</td>\n",
       "      <td>7800.0</td>\n",
       "      <td>4360.0</td>\n",
       "      <td>20.0</td>\n",
       "      <td>54.0</td>\n",
       "    </tr>\n",
       "  </tbody>\n",
       "</table>\n",
       "<p>5 rows × 90 columns</p>\n",
       "</div>"
      ],
      "text/plain": [
       "         id   custid                          trade_no bank_card_no  \\\n",
       "4749  11978  3269862  20180507120519228000000388247328          卡号1   \n",
       "4750  11986   270952  20180507114937914000000388192877          卡号1   \n",
       "4751  11988  2425913  20180507121340509000000388278785          卡号1   \n",
       "4752  11991   471395  20180504161827128000000381357758          卡号1   \n",
       "4753  11992  1881943  20180507124243041000000388391027          卡号1   \n",
       "\n",
       "      low_volume_percent  middle_volume_percent  \\\n",
       "4749                0.05                   0.68   \n",
       "4750                0.01                   0.99   \n",
       "4751                0.00                   1.00   \n",
       "4752                0.05                   0.95   \n",
       "4753                0.01                   0.99   \n",
       "\n",
       "      take_amount_in_later_12_month_highest  \\\n",
       "4749                                   1000   \n",
       "4750                                    400   \n",
       "4751                                   3000   \n",
       "4752                                      0   \n",
       "4753                                   1300   \n",
       "\n",
       "      trans_amount_increase_rate_lately  trans_activity_month  \\\n",
       "4749                               0.87                  0.94   \n",
       "4750                               0.93                  0.98   \n",
       "4751                               0.54                  0.64   \n",
       "4752                               4.79                  1.00   \n",
       "4753                              21.35                  1.00   \n",
       "\n",
       "      trans_activity_day        ...         loans_max_limit  loans_avg_limit  \\\n",
       "4749               0.150        ...                     0.0              0.0   \n",
       "4750               0.605        ...                  5000.0           1952.0   \n",
       "4751               0.313        ...                  3300.0           1540.0   \n",
       "4752               0.458        ...                  1900.0           1216.0   \n",
       "4753               0.372        ...                  4000.0           2180.0   \n",
       "\n",
       "      consfin_credit_limit  consfin_credibility  consfin_org_count_current  \\\n",
       "4749               49200.0                 78.0                        1.0   \n",
       "4750               10100.0                 78.0                        7.0   \n",
       "4751                7600.0                 79.0                        8.0   \n",
       "4752                7100.0                 79.0                        8.0   \n",
       "4753                4500.0                 74.0                        5.0   \n",
       "\n",
       "      consfin_product_count  consfin_max_limit  consfin_avg_limit  \\\n",
       "4749                    1.0            49200.0            49200.0   \n",
       "4750                    8.0            19200.0             7500.0   \n",
       "4751                    8.0            21000.0             7250.0   \n",
       "4752                   11.0            12000.0             3950.0   \n",
       "4753                    5.0             7800.0             4360.0   \n",
       "\n",
       "      latest_query_day  loans_latest_day  \n",
       "4749              44.0              58.0  \n",
       "4750              17.0              55.0  \n",
       "4751              18.0              55.0  \n",
       "4752              55.0              16.0  \n",
       "4753              20.0              54.0  \n",
       "\n",
       "[5 rows x 90 columns]"
      ]
     },
     "execution_count": 8,
     "metadata": {},
     "output_type": "execute_result"
    }
   ],
   "source": [
    "# 后5行\n",
    "dataSet.tail(5)"
   ]
  },
  {
   "cell_type": "markdown",
   "metadata": {
    "heading_collapsed": true
   },
   "source": [
    "### 获取数据规模"
   ]
  },
  {
   "cell_type": "code",
   "execution_count": 9,
   "metadata": {
    "ExecuteTime": {
     "end_time": "2019-03-01T22:29:50.431000Z",
     "start_time": "2019-03-01T22:29:50.426000Z"
    },
    "hidden": true
   },
   "outputs": [
    {
     "name": "stdout",
     "output_type": "stream",
     "text": [
      "数据规模为： 4754\n",
      "特征个数为： 90\n"
     ]
    }
   ],
   "source": [
    "print u\"数据规模为：\", dataSet.shape[0]\n",
    "print u\"特征个数为：\", dataSet.shape[1]"
   ]
  },
  {
   "cell_type": "markdown",
   "metadata": {
    "heading_collapsed": true
   },
   "source": [
    "### 查看数据信息"
   ]
  },
  {
   "cell_type": "code",
   "execution_count": 10,
   "metadata": {
    "ExecuteTime": {
     "end_time": "2019-03-01T22:29:46.757000Z",
     "start_time": "2019-03-01T22:29:46.739000Z"
    },
    "hidden": true,
    "scrolled": true
   },
   "outputs": [
    {
     "name": "stdout",
     "output_type": "stream",
     "text": [
      "<class 'pandas.core.frame.DataFrame'>\n",
      "RangeIndex: 4754 entries, 0 to 4753\n",
      "Data columns (total 90 columns):\n",
      "id                                            4754 non-null int64\n",
      "custid                                        4754 non-null int64\n",
      "trade_no                                      4754 non-null object\n",
      "bank_card_no                                  4754 non-null object\n",
      "low_volume_percent                            4752 non-null float64\n",
      "middle_volume_percent                         4752 non-null float64\n",
      "take_amount_in_later_12_month_highest         4754 non-null int64\n",
      "trans_amount_increase_rate_lately             4751 non-null float64\n",
      "trans_activity_month                          4752 non-null float64\n",
      "trans_activity_day                            4752 non-null float64\n",
      "transd_mcc                                    4752 non-null float64\n",
      "trans_days_interval_filter                    4746 non-null float64\n",
      "trans_days_interval                           4752 non-null float64\n",
      "regional_mobility                             4752 non-null float64\n",
      "student_feature                               1756 non-null float64\n",
      "repayment_capability                          4754 non-null int64\n",
      "is_high_user                                  4754 non-null int64\n",
      "number_of_trans_from_2011                     4752 non-null float64\n",
      "first_transaction_time                        4752 non-null float64\n",
      "historical_trans_amount                       4754 non-null int64\n",
      "historical_trans_day                          4752 non-null float64\n",
      "rank_trad_1_month                             4752 non-null float64\n",
      "trans_amount_3_month                          4754 non-null int64\n",
      "avg_consume_less_12_valid_month               4752 non-null float64\n",
      "abs                                           4754 non-null int64\n",
      "top_trans_count_last_1_month                  4752 non-null float64\n",
      "avg_price_last_12_month                       4754 non-null int64\n",
      "avg_price_top_last_12_valid_month             4650 non-null float64\n",
      "reg_preference_for_trad                       4752 non-null object\n",
      "trans_top_time_last_1_month                   4746 non-null float64\n",
      "trans_top_time_last_6_month                   4746 non-null float64\n",
      "consume_top_time_last_1_month                 4746 non-null float64\n",
      "consume_top_time_last_6_month                 4746 non-null float64\n",
      "cross_consume_count_last_1_month              4328 non-null float64\n",
      "trans_fail_top_count_enum_last_1_month        4738 non-null float64\n",
      "trans_fail_top_count_enum_last_6_month        4738 non-null float64\n",
      "trans_fail_top_count_enum_last_12_month       4738 non-null float64\n",
      "consume_mini_time_last_1_month                4728 non-null float64\n",
      "max_cumulative_consume_later_1_month          4754 non-null int64\n",
      "max_consume_count_later_6_month               4746 non-null float64\n",
      "railway_consume_count_last_12_month           4742 non-null float64\n",
      "pawns_auctions_trusts_consume_last_1_month    4754 non-null int64\n",
      "pawns_auctions_trusts_consume_last_6_month    4754 non-null int64\n",
      "jewelry_consume_count_last_6_month            4742 non-null float64\n",
      "status                                        4754 non-null int64\n",
      "source                                        4754 non-null object\n",
      "first_transaction_day                         4752 non-null float64\n",
      "trans_day_last_12_month                       4752 non-null float64\n",
      "id_name                                       4478 non-null object\n",
      "apply_score                                   4450 non-null float64\n",
      "apply_credibility                             4450 non-null float64\n",
      "query_org_count                               4450 non-null float64\n",
      "query_finance_count                           4450 non-null float64\n",
      "query_cash_count                              4450 non-null float64\n",
      "query_sum_count                               4450 non-null float64\n",
      "latest_query_time                             4450 non-null object\n",
      "latest_one_month_apply                        4450 non-null float64\n",
      "latest_three_month_apply                      4450 non-null float64\n",
      "latest_six_month_apply                        4450 non-null float64\n",
      "loans_score                                   4457 non-null float64\n",
      "loans_credibility_behavior                    4457 non-null float64\n",
      "loans_count                                   4457 non-null float64\n",
      "loans_settle_count                            4457 non-null float64\n",
      "loans_overdue_count                           4457 non-null float64\n",
      "loans_org_count_behavior                      4457 non-null float64\n",
      "consfin_org_count_behavior                    4457 non-null float64\n",
      "loans_cash_count                              4457 non-null float64\n",
      "latest_one_month_loan                         4457 non-null float64\n",
      "latest_three_month_loan                       4457 non-null float64\n",
      "latest_six_month_loan                         4457 non-null float64\n",
      "history_suc_fee                               4457 non-null float64\n",
      "history_fail_fee                              4457 non-null float64\n",
      "latest_one_month_suc                          4457 non-null float64\n",
      "latest_one_month_fail                         4457 non-null float64\n",
      "loans_long_time                               4457 non-null float64\n",
      "loans_latest_time                             4457 non-null object\n",
      "loans_credit_limit                            4457 non-null float64\n",
      "loans_credibility_limit                       4457 non-null float64\n",
      "loans_org_count_current                       4457 non-null float64\n",
      "loans_product_count                           4457 non-null float64\n",
      "loans_max_limit                               4457 non-null float64\n",
      "loans_avg_limit                               4457 non-null float64\n",
      "consfin_credit_limit                          4457 non-null float64\n",
      "consfin_credibility                           4457 non-null float64\n",
      "consfin_org_count_current                     4457 non-null float64\n",
      "consfin_product_count                         4457 non-null float64\n",
      "consfin_max_limit                             4457 non-null float64\n",
      "consfin_avg_limit                             4457 non-null float64\n",
      "latest_query_day                              4450 non-null float64\n",
      "loans_latest_day                              4457 non-null float64\n",
      "dtypes: float64(70), int64(13), object(7)\n",
      "memory usage: 3.3+ MB\n"
     ]
    }
   ],
   "source": [
    "dataSet.info()"
   ]
  },
  {
   "cell_type": "markdown",
   "metadata": {},
   "source": [
    "# 数据清洗"
   ]
  },
  {
   "cell_type": "markdown",
   "metadata": {
    "heading_collapsed": true
   },
   "source": [
    "## 剔除无关特征"
   ]
  },
  {
   "cell_type": "markdown",
   "metadata": {
    "hidden": true
   },
   "source": [
    "观察object非数值型特征\n",
    "<p><li>reg_preference_for_trad：城市等级，一线、二线、三线、境外等。应该是有价值的参考信息<p></li>\n",
    "<p><li>source：均为xs<p></li>\n",
    "<p><li>id_name：人名，无关特征<p></li>\n",
    "<p><li>latest_query_time：日期参数，因为不涉及时间序列分析，所以应该为无关特征<p></li>\n",
    "<p><li>loans_latest_time：日期信息，因为不涉及时间序列分析，所以应该为无关特征<p></li>"
   ]
  },
  {
   "cell_type": "markdown",
   "metadata": {
    "hidden": true
   },
   "source": [
    "带有id、no字样的特征，也为无关特征(id是自己添加上去的，原始数据没有这个字段)\n",
    "<p><li>id<p></li>\n",
    "<p><li>custid<p></li>\n",
    "<p><li>trade_no<p></li>\n",
    "<p><li>bank_card_no<p></li>"
   ]
  },
  {
   "cell_type": "code",
   "execution_count": 11,
   "metadata": {
    "ExecuteTime": {
     "end_time": "2019-03-01T22:29:46.767000Z",
     "start_time": "2019-03-01T22:29:46.760000Z"
    },
    "hidden": true
   },
   "outputs": [
    {
     "name": "stdout",
     "output_type": "stream",
     "text": [
      "\n"
     ]
    }
   ],
   "source": [
    "# 删除无关特征\n",
    "dropCols = [\"source\", \"id_name\", \"latest_query_time\", \"loans_latest_time\", \"id\", \"custid\", \"trade_no\", \"bank_card_no\"]\n",
    "dataSet.drop(columns = dropCols, inplace = True)\n",
    "print "
   ]
  },
  {
   "cell_type": "markdown",
   "metadata": {
    "heading_collapsed": true
   },
   "source": [
    "## 删除缺陷样本"
   ]
  },
  {
   "cell_type": "code",
   "execution_count": 12,
   "metadata": {
    "ExecuteTime": {
     "end_time": "2019-03-01T22:29:50.312000Z",
     "start_time": "2019-03-01T22:29:46.768000Z"
    },
    "hidden": true
   },
   "outputs": [],
   "source": [
    "featureInfo = {}\n",
    "for i in range(dataSet.shape[1]):\n",
    "    series = dataSet.iloc[:, i]\n",
    "    nullCounter = 0.0\n",
    "    for j in range(dataSet.shape[0]):\n",
    "        try:\n",
    "            if np.isnan(series[j]): # np.isnan()只能适用于判断非空的数值型\n",
    "                nullCounter += 1\n",
    "        except:\n",
    "            if isinstance(series[j], str):\n",
    "                pass           \n",
    "    featureInfo[dataSet.columns.tolist()[i]] = (nullCounter, nullCounter / dataSet.shape[0] * 100)"
   ]
  },
  {
   "cell_type": "code",
   "execution_count": 13,
   "metadata": {
    "ExecuteTime": {
     "end_time": "2019-03-01T22:29:50.331000Z",
     "start_time": "2019-03-01T22:29:50.315000Z"
    },
    "hidden": true,
    "scrolled": true
   },
   "outputs": [
    {
     "data": {
      "text/plain": [
       "[('student_feature', (2998.0, 63.06268405553218)),\n",
       " ('cross_consume_count_last_1_month', (426.0, 8.960875052587294)),\n",
       " ('query_org_count', (304.0, 6.394615061001262)),\n",
       " ('query_sum_count', (304.0, 6.394615061001262)),\n",
       " ('latest_one_month_apply', (304.0, 6.394615061001262)),\n",
       " ('query_finance_count', (304.0, 6.394615061001262)),\n",
       " ('apply_credibility', (304.0, 6.394615061001262)),\n",
       " ('query_cash_count', (304.0, 6.394615061001262)),\n",
       " ('latest_query_day', (304.0, 6.394615061001262)),\n",
       " ('latest_six_month_apply', (304.0, 6.394615061001262)),\n",
       " ('latest_three_month_apply', (304.0, 6.394615061001262)),\n",
       " ('apply_score', (304.0, 6.394615061001262)),\n",
       " ('loans_long_time', (297.0, 6.247370635254523)),\n",
       " ('latest_six_month_loan', (297.0, 6.247370635254523)),\n",
       " ('latest_one_month_fail', (297.0, 6.247370635254523)),\n",
       " ('consfin_product_count', (297.0, 6.247370635254523)),\n",
       " ('consfin_credit_limit', (297.0, 6.247370635254523)),\n",
       " ('loans_score', (297.0, 6.247370635254523)),\n",
       " ('loans_overdue_count', (297.0, 6.247370635254523)),\n",
       " ('consfin_org_count_current', (297.0, 6.247370635254523)),\n",
       " ('loans_product_count', (297.0, 6.247370635254523)),\n",
       " ('loans_avg_limit', (297.0, 6.247370635254523)),\n",
       " ('loans_settle_count', (297.0, 6.247370635254523)),\n",
       " ('loans_org_count_current', (297.0, 6.247370635254523)),\n",
       " ('loans_credit_limit', (297.0, 6.247370635254523)),\n",
       " ('loans_count', (297.0, 6.247370635254523)),\n",
       " ('latest_three_month_loan', (297.0, 6.247370635254523)),\n",
       " ('loans_cash_count', (297.0, 6.247370635254523)),\n",
       " ('consfin_max_limit', (297.0, 6.247370635254523)),\n",
       " ('consfin_credibility', (297.0, 6.247370635254523)),\n",
       " ('loans_latest_day', (297.0, 6.247370635254523)),\n",
       " ('history_suc_fee', (297.0, 6.247370635254523)),\n",
       " ('loans_credibility_behavior', (297.0, 6.247370635254523)),\n",
       " ('consfin_avg_limit', (297.0, 6.247370635254523)),\n",
       " ('loans_max_limit', (297.0, 6.247370635254523)),\n",
       " ('latest_one_month_loan', (297.0, 6.247370635254523)),\n",
       " ('history_fail_fee', (297.0, 6.247370635254523)),\n",
       " ('loans_credibility_limit', (297.0, 6.247370635254523)),\n",
       " ('loans_org_count_behavior', (297.0, 6.247370635254523)),\n",
       " ('latest_one_month_suc', (297.0, 6.247370635254523)),\n",
       " ('consfin_org_count_behavior', (297.0, 6.247370635254523)),\n",
       " ('avg_price_top_last_12_valid_month', (104.0, 2.187631468237274)),\n",
       " ('consume_mini_time_last_1_month', (26.0, 0.5469078670593185)),\n",
       " ('trans_fail_top_count_enum_last_1_month', (16.0, 0.33655868742111905)),\n",
       " ('trans_fail_top_count_enum_last_6_month', (16.0, 0.33655868742111905)),\n",
       " ('trans_fail_top_count_enum_last_12_month', (16.0, 0.33655868742111905)),\n",
       " ('railway_consume_count_last_12_month', (12.0, 0.2524190155658393)),\n",
       " ('jewelry_consume_count_last_6_month', (12.0, 0.2524190155658393)),\n",
       " ('trans_days_interval_filter', (8.0, 0.16827934371055953)),\n",
       " ('consume_top_time_last_1_month', (8.0, 0.16827934371055953)),\n",
       " ('max_consume_count_later_6_month', (8.0, 0.16827934371055953)),\n",
       " ('consume_top_time_last_6_month', (8.0, 0.16827934371055953)),\n",
       " ('trans_top_time_last_1_month', (8.0, 0.16827934371055953)),\n",
       " ('trans_top_time_last_6_month', (8.0, 0.16827934371055953)),\n",
       " ('trans_amount_increase_rate_lately', (3.0, 0.06310475389145982)),\n",
       " ('low_volume_percent', (2.0, 0.04206983592763988)),\n",
       " ('trans_day_last_12_month', (2.0, 0.04206983592763988)),\n",
       " ('middle_volume_percent', (2.0, 0.04206983592763988)),\n",
       " ('regional_mobility', (2.0, 0.04206983592763988)),\n",
       " ('first_transaction_day', (2.0, 0.04206983592763988)),\n",
       " ('transd_mcc', (2.0, 0.04206983592763988)),\n",
       " ('first_transaction_time', (2.0, 0.04206983592763988)),\n",
       " ('number_of_trans_from_2011', (2.0, 0.04206983592763988)),\n",
       " ('rank_trad_1_month', (2.0, 0.04206983592763988)),\n",
       " ('top_trans_count_last_1_month', (2.0, 0.04206983592763988)),\n",
       " ('historical_trans_day', (2.0, 0.04206983592763988)),\n",
       " ('reg_preference_for_trad', (2.0, 0.04206983592763988)),\n",
       " ('avg_consume_less_12_valid_month', (2.0, 0.04206983592763988)),\n",
       " ('trans_activity_day', (2.0, 0.04206983592763988)),\n",
       " ('trans_days_interval', (2.0, 0.04206983592763988)),\n",
       " ('trans_activity_month', (2.0, 0.04206983592763988)),\n",
       " ('status', (0.0, 0.0)),\n",
       " ('avg_price_last_12_month', (0.0, 0.0)),\n",
       " ('max_cumulative_consume_later_1_month', (0.0, 0.0)),\n",
       " ('repayment_capability', (0.0, 0.0)),\n",
       " ('take_amount_in_later_12_month_highest', (0.0, 0.0)),\n",
       " ('is_high_user', (0.0, 0.0)),\n",
       " ('abs', (0.0, 0.0)),\n",
       " ('historical_trans_amount', (0.0, 0.0)),\n",
       " ('pawns_auctions_trusts_consume_last_1_month', (0.0, 0.0)),\n",
       " ('trans_amount_3_month', (0.0, 0.0)),\n",
       " ('pawns_auctions_trusts_consume_last_6_month', (0.0, 0.0))]"
      ]
     },
     "execution_count": 13,
     "metadata": {},
     "output_type": "execute_result"
    }
   ],
   "source": [
    "sorted(featureInfo.items(), key = lambda item: item[1][1], reverse = True)"
   ]
  },
  {
   "cell_type": "code",
   "execution_count": 14,
   "metadata": {
    "ExecuteTime": {
     "end_time": "2019-03-01T22:29:50.340000Z",
     "start_time": "2019-03-01T22:29:50.335000Z"
    },
    "hidden": true
   },
   "outputs": [],
   "source": [
    "s = dataSet.loc[:, \"student_feature\"]"
   ]
  },
  {
   "cell_type": "code",
   "execution_count": 15,
   "metadata": {
    "ExecuteTime": {
     "end_time": "2019-03-01T22:29:50.423000Z",
     "start_time": "2019-03-01T22:29:50.343000Z"
    },
    "hidden": true
   },
   "outputs": [
    {
     "name": "stdout",
     "output_type": "stream",
     "text": [
      "{1.0: 1754, 2.0: 2, 'NaN': 2998}\n"
     ]
    }
   ],
   "source": [
    "featureDict={}\n",
    "featureDict[\"NaN\"] = 0\n",
    "for i in range(s.shape[0]):\n",
    " \n",
    "    if np.isnan(s[i]):\n",
    "        featureDict[\"NaN\"] += 1\n",
    "    \n",
    "    elif s[i] in featureDict:\n",
    "        featureDict[s[i]] += 1\n",
    "        \n",
    "    else:\n",
    "        featureDict[s[i]] = 1\n",
    "        \n",
    "print featureDict"
   ]
  },
  {
   "cell_type": "code",
   "execution_count": 16,
   "metadata": {
    "ExecuteTime": {
     "end_time": "2019-03-01T22:29:50.431000Z",
     "start_time": "2019-03-01T22:29:50.426000Z"
    },
    "hidden": true
   },
   "outputs": [],
   "source": [
    "dataSet.drop(columns = \"student_feature\", inplace = True)"
   ]
  },
  {
   "cell_type": "code",
   "execution_count": 17,
   "metadata": {
    "ExecuteTime": {
     "end_time": "2019-03-01T22:29:50.438000Z",
     "start_time": "2019-03-01T22:29:50.434000Z"
    },
    "hidden": true
   },
   "outputs": [
    {
     "name": "stdout",
     "output_type": "stream",
     "text": [
      "4754\n",
      "81\n"
     ]
    }
   ],
   "source": [
    "print dataSet.shape[0]\n",
    "print dataSet.shape[1]"
   ]
  }
 ],
 "metadata": {
  "kernelspec": {
   "display_name": "Python 2",
   "language": "python",
   "name": "python2"
  },
  "language_info": {
   "codemirror_mode": {
    "name": "ipython",
    "version": 2
   },
   "file_extension": ".py",
   "mimetype": "text/x-python",
   "name": "python",
   "nbconvert_exporter": "python",
   "pygments_lexer": "ipython2",
   "version": "2.7.15"
  },
  "toc": {
   "base_numbering": 1,
   "nav_menu": {},
   "number_sections": true,
   "sideBar": true,
   "skip_h1_title": false,
   "title_cell": "Table of Contents",
   "title_sidebar": "Contents",
   "toc_cell": false,
   "toc_position": {},
   "toc_section_display": true,
   "toc_window_display": false
  }
 },
 "nbformat": 4,
 "nbformat_minor": 2
}
