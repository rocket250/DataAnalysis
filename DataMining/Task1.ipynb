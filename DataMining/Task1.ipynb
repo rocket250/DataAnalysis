{
 "cells": [
  {
   "cell_type": "markdown",
   "metadata": {},
   "source": [
    "# 系统默认编码"
   ]
  },
  {
   "cell_type": "code",
   "execution_count": null,
   "metadata": {
    "ExecuteTime": {
     "end_time": "2019-03-02T07:01:07.898000Z",
     "start_time": "2019-03-02T07:01:07.892000Z"
    }
   },
   "outputs": [],
   "source": [
    "import sys\n",
    "stdout = sys.stdout\n",
    "reload(sys)\n",
    "sys.setdefaultencoding(\"utf-8\")\n",
    "sys.stdout = stdout"
   ]
  },
  {
   "cell_type": "markdown",
   "metadata": {},
   "source": [
    "# 导入库"
   ]
  },
  {
   "cell_type": "code",
   "execution_count": null,
   "metadata": {
    "ExecuteTime": {
     "end_time": "2019-03-02T07:01:08.128000Z",
     "start_time": "2019-03-02T07:01:07.901000Z"
    }
   },
   "outputs": [],
   "source": [
    "import pandas as pd\n",
    "import numpy as np"
   ]
  },
  {
   "cell_type": "markdown",
   "metadata": {},
   "source": [
    "# 读取数据"
   ]
  },
  {
   "cell_type": "markdown",
   "metadata": {},
   "source": [
    "## 获取表头"
   ]
  },
  {
   "cell_type": "code",
   "execution_count": null,
   "metadata": {
    "ExecuteTime": {
     "end_time": "2019-03-02T07:01:08.137000Z",
     "start_time": "2019-03-02T07:01:08.132000Z"
    }
   },
   "outputs": [],
   "source": [
    "# 读取第一行表头\n",
    "f = open(\"./data.csv\", \"r\")\n",
    "line = f.readline()\n",
    "f.close()"
   ]
  },
  {
   "cell_type": "code",
   "execution_count": null,
   "metadata": {
    "ExecuteTime": {
     "end_time": "2019-03-02T07:01:08.148000Z",
     "start_time": "2019-03-02T07:01:08.140000Z"
    }
   },
   "outputs": [],
   "source": [
    "# 获取列名\n",
    "headerList = line.replace('\",\"', ',').split(\",\")\n",
    "\n",
    "# 首尾两个列名需要处理下\n",
    "headerList[0] = \"id\"\n",
    "headerList[-1] = headerList[-1].strip()[0:-1]"
   ]
  },
  {
   "cell_type": "code",
   "execution_count": null,
   "metadata": {
    "ExecuteTime": {
     "end_time": "2019-03-02T07:01:08.155000Z",
     "start_time": "2019-03-02T07:01:08.150000Z"
    }
   },
   "outputs": [],
   "source": [
    "# 打印所有的列名\n",
    "print headerList"
   ]
  },
  {
   "cell_type": "markdown",
   "metadata": {},
   "source": [
    "## pandas读取csv文件，并转换为DataFrame"
   ]
  },
  {
   "cell_type": "markdown",
   "metadata": {},
   "source": [
    "HBuilder打开csv文件，发现编码方式为<strong>GB18030</strong>"
   ]
  },
  {
   "cell_type": "code",
   "execution_count": null,
   "metadata": {
    "ExecuteTime": {
     "end_time": "2019-03-02T07:01:08.231000Z",
     "start_time": "2019-03-02T07:01:08.158000Z"
    }
   },
   "outputs": [],
   "source": [
    "dataSet = pd.read_csv(\"./data.csv\", delimiter = \",\", encoding = \"GB18030\", skiprows=1, names = headerList)"
   ]
  },
  {
   "cell_type": "markdown",
   "metadata": {},
   "source": [
    "## 数据预览"
   ]
  },
  {
   "cell_type": "markdown",
   "metadata": {},
   "source": [
    "### 打印首尾数行"
   ]
  },
  {
   "cell_type": "code",
   "execution_count": null,
   "metadata": {
    "ExecuteTime": {
     "end_time": "2019-03-02T07:01:08.267000Z",
     "start_time": "2019-03-02T07:01:08.234000Z"
    }
   },
   "outputs": [],
   "source": [
    "# 前5行\n",
    "dataSet.head(5)"
   ]
  },
  {
   "cell_type": "code",
   "execution_count": null,
   "metadata": {
    "ExecuteTime": {
     "end_time": "2019-03-02T07:01:08.298000Z",
     "start_time": "2019-03-02T07:01:08.270000Z"
    },
    "scrolled": false
   },
   "outputs": [],
   "source": [
    "# 后5行\n",
    "dataSet.tail(5)"
   ]
  },
  {
   "cell_type": "markdown",
   "metadata": {},
   "source": [
    "### 获取数据规模"
   ]
  },
  {
   "cell_type": "code",
   "execution_count": null,
   "metadata": {
    "ExecuteTime": {
     "end_time": "2019-03-02T07:01:08.307000Z",
     "start_time": "2019-03-02T07:01:08.302000Z"
    }
   },
   "outputs": [],
   "source": [
    "print u\"数据规模为：\", dataSet.shape[0]\n",
    "print u\"特征个数为：\", dataSet.shape[1]"
   ]
  },
  {
   "cell_type": "markdown",
   "metadata": {},
   "source": [
    "### 查看数据信息"
   ]
  },
  {
   "cell_type": "markdown",
   "metadata": {},
   "source": [
    "一共有83个数值型特征，和7个Python对象型特征(其实就是字符串)\n",
    "float64(70), int64(13), object(7)"
   ]
  },
  {
   "cell_type": "code",
   "execution_count": null,
   "metadata": {
    "ExecuteTime": {
     "end_time": "2019-03-02T07:01:08.329000Z",
     "start_time": "2019-03-02T07:01:08.310000Z"
    }
   },
   "outputs": [],
   "source": [
    "dataSet.info()"
   ]
  },
  {
   "cell_type": "markdown",
   "metadata": {},
   "source": [
    "# 数据清洗"
   ]
  },
  {
   "cell_type": "markdown",
   "metadata": {},
   "source": [
    "## 删除无关特征"
   ]
  },
  {
   "cell_type": "markdown",
   "metadata": {},
   "source": [
    "观察非数值型特征\n",
    "<p><li>reg_preference_for_trad：城市等级，取值范围有：一线、二线、三线、境外等。应该是有价值的参考信息<p></li>\n",
    "<p><li>source：均为xs，无关特征<p></li>\n",
    "<p><li>id_name：人名，无关特征<p></li>\n",
    "<p><li>latest_query_time：日期参数，因为不涉及时间序列分析，所以应该为无关特征<p></li>\n",
    "<p><li>loans_latest_time：日期信息，因为不涉及时间序列分析，所以应该为无关特征<p></li>"
   ]
  },
  {
   "cell_type": "markdown",
   "metadata": {},
   "source": [
    "带有id、no字样的特征，也为无关特征(id是自己添加上去的，原始数据没有这个字段)\n",
    "<p><li>id<p></li>\n",
    "<p><li>custid<p></li>\n",
    "<p><li>trade_no<p></li>\n",
    "<p><li>bank_card_no<p></li>"
   ]
  },
  {
   "cell_type": "code",
   "execution_count": null,
   "metadata": {
    "ExecuteTime": {
     "end_time": "2019-03-02T07:01:08.341000Z",
     "start_time": "2019-03-02T07:01:08.332000Z"
    }
   },
   "outputs": [],
   "source": [
    "# 删除无关特征\n",
    "dropCols = [\"source\", \"id_name\", \"latest_query_time\", \"loans_latest_time\", \"id\", \"custid\", \"trade_no\", \"bank_card_no\"]\n",
    "dataSet.drop(columns = dropCols, inplace = True)\n",
    "print "
   ]
  },
  {
   "cell_type": "markdown",
   "metadata": {},
   "source": [
    "## 过滤失效特征"
   ]
  },
  {
   "cell_type": "markdown",
   "metadata": {},
   "source": [
    "可以看到，\"student_feature\"有近63%的数据为缺失值，可以断定为是一个失效特征"
   ]
  },
  {
   "cell_type": "code",
   "execution_count": null,
   "metadata": {
    "ExecuteTime": {
     "end_time": "2019-03-02T07:01:11.998000Z",
     "start_time": "2019-03-02T07:01:08.344000Z"
    }
   },
   "outputs": [],
   "source": [
    "# 属性字典，键为特征名，值为(缺失值，缺失值所占比例cd\n",
    "featureInfo = {}\n",
    "\n",
    "# 遍历所有的特征\n",
    "for i in range(dataSet.shape[1]):\n",
    "    \n",
    "    series = dataSet.iloc[:, i]\n",
    "    \n",
    "    nullCounter = 0.0\n",
    "    \n",
    "    # 遍历所有的样本点\n",
    "    for j in range(dataSet.shape[0]):\n",
    "        \n",
    "        # np.isnan()的形参只能接受数值型\n",
    "        try:  \n",
    "            if np.isnan(series[j]): \n",
    "                nullCounter += 1\n",
    "        \n",
    "        # 非空字符\n",
    "        except:\n",
    "            if series[j] != \"NA\":\n",
    "                pass\n",
    "    \n",
    "    # 本特征的取值统计完毕\n",
    "    featureInfo[dataSet.columns.tolist()[i]] = (nullCounter, nullCounter / dataSet.shape[0] * 100)\n",
    "\n",
    "# 根据缺失值所占比例逆序排序\n",
    "sorted(featureInfo.items(), key = lambda item: item[1][1], reverse = True)"
   ]
  },
  {
   "cell_type": "code",
   "execution_count": null,
   "metadata": {
    "ExecuteTime": {
     "end_time": "2019-03-02T07:01:12.006000Z",
     "start_time": "2019-03-02T07:01:12Z"
    },
    "scrolled": true
   },
   "outputs": [],
   "source": [
    "# 删除student_feature\n",
    "dataSet.drop(columns = \"student_feature\", inplace = True)"
   ]
  },
  {
   "cell_type": "markdown",
   "metadata": {},
   "source": [
    "## 剔除失效样本"
   ]
  },
  {
   "cell_type": "markdown",
   "metadata": {},
   "source": [
    "这里定义样本的缺失值在10个以上时，可以认为是一个失效样本，应该予以删除。"
   ]
  },
  {
   "cell_type": "code",
   "execution_count": null,
   "metadata": {
    "ExecuteTime": {
     "end_time": "2019-03-02T07:01:12.025000Z",
     "start_time": "2019-03-02T07:01:12.009000Z"
    }
   },
   "outputs": [],
   "source": [
    "dataSet.dropna(thresh = 70, inplace = True)\n",
    "print u\"数据规模为：\", dataSet.shape[0]\n",
    "print u\"特征个数为：\", dataSet.shape[1]"
   ]
  },
  {
   "cell_type": "markdown",
   "metadata": {},
   "source": [
    "## 缺失值填充"
   ]
  },
  {
   "cell_type": "markdown",
   "metadata": {},
   "source": [
    "填充缺失值之前，对数据再进行一次预览"
   ]
  },
  {
   "cell_type": "markdown",
   "metadata": {},
   "source": [
    "对于数值型数据的缺失值，传入平均数；对于非数值型(object类型)reg_preference_for_trad特征，需要转换成独热编码\n",
    "<ol>\n",
    "<li>在过滤失效特征的步骤中，发现仅仅只出现过两次缺失值，对于这类特征的缺失值，可以直接删除\n",
    "<li>在剔除失效样本之后，发现reg_preference_for_trady特征的描述为“reg_preference_for_trad  4453  non-null object”，已经没有缺失值\n",
    "故，不需要对reg_preference_for_trady特征进行缺失值的填充处理\n",
    "<li>status标签的描述为：“status  4453 non-null int64”，即标签中也没有缺失值。\n",
    "</ol>"
   ]
  },
  {
   "cell_type": "code",
   "execution_count": null,
   "metadata": {
    "ExecuteTime": {
     "end_time": "2019-03-02T07:01:12.036000Z",
     "start_time": "2019-03-02T07:01:12.029000Z"
    }
   },
   "outputs": [],
   "source": [
    "len(dataSet.loc[:, \"reg_preference_for_trad\"])\n",
    "len(dataSet.loc[:, \"reg_preference_for_trad\"].tolist())"
   ]
  },
  {
   "cell_type": "code",
   "execution_count": null,
   "metadata": {
    "ExecuteTime": {
     "end_time": "2019-03-02T07:01:12.046000Z",
     "start_time": "2019-03-02T07:01:12.039000Z"
    }
   },
   "outputs": [],
   "source": [
    "# 提取 reg_preference_for_trad\n",
    "reg_preList = dataSet.loc[:, \"reg_preference_for_trad\"]\n",
    "dataSet.drop(columns = \"reg_preference_for_trad\", inplace = True)"
   ]
  },
  {
   "cell_type": "code",
   "execution_count": null,
   "metadata": {
    "ExecuteTime": {
     "end_time": "2019-03-02T07:01:12.070000Z",
     "start_time": "2019-03-02T07:01:12.049000Z"
    },
    "scrolled": true
   },
   "outputs": [],
   "source": [
    "# 填充缺失值\n",
    "dataSet.fillna(dataSet.mean(), inplace = True)"
   ]
  },
  {
   "cell_type": "code",
   "execution_count": null,
   "metadata": {
    "ExecuteTime": {
     "end_time": "2019-03-02T07:01:34.454000Z",
     "start_time": "2019-03-02T07:01:34.434000Z"
    }
   },
   "outputs": [],
   "source": [
    "from sklearn import preprocessing\n",
    "\n",
    "# 标签二值化\n",
    "dummData = preprocessing.LabelBinarizer().fit_transform(reg_preList) \n",
    "dummDataFrame = pd.DataFrame(dummData, columns=[\"一线城市\",\"三线城市\",\"二线城市\",\"其它城市\",\"境外\"])\n",
    "\n",
    "# 合并数据集，得到最终数据\n",
    "dataSet.reset_index(drop=True, inplace=True) \n",
    "dummDataFrame.reset_index(drop=True, inplace=True) \n",
    "dataSet = pd.concat([dataSet, dummDataFrame], axis=1)"
   ]
  },
  {
   "cell_type": "markdown",
   "metadata": {},
   "source": [
    "# 特征提取(待续)"
   ]
  }
 ],
 "metadata": {
  "kernelspec": {
   "display_name": "Python 2",
   "language": "python",
   "name": "python2"
  },
  "language_info": {
   "codemirror_mode": {
    "name": "ipython",
    "version": 2
   },
   "file_extension": ".py",
   "mimetype": "text/x-python",
   "name": "python",
   "nbconvert_exporter": "python",
   "pygments_lexer": "ipython2",
   "version": "2.7.15"
  },
  "toc": {
   "base_numbering": 1,
   "nav_menu": {},
   "number_sections": true,
   "sideBar": true,
   "skip_h1_title": false,
   "title_cell": "Table of Contents",
   "title_sidebar": "Contents",
   "toc_cell": false,
   "toc_position": {},
   "toc_section_display": true,
   "toc_window_display": false
  }
 },
 "nbformat": 4,
 "nbformat_minor": 2
}
