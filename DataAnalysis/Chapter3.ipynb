{
 "cells": [
  {
   "cell_type": "raw",
   "metadata": {},
   "source": [
    "import sys\n",
    "std = sys.stdout\n",
    "reload(sys)\n",
    "sys.setdefaultencoding(\"utf-8\")\n",
    "sys.stdout = std"
   ]
  },
  {
   "cell_type": "code",
   "execution_count": 3,
   "metadata": {
    "ExecuteTime": {
     "end_time": "2019-03-01T06:23:04.893356Z",
     "start_time": "2019-03-01T06:23:04.890365Z"
    }
   },
   "outputs": [
    {
     "name": "stdout",
     "output_type": "stream",
     "text": [
      "(4, 5, 6) ((4, 5, 6), (7, 8))\n"
     ]
    }
   ],
   "source": [
    "tup = 4, 5, 6\n",
    "nested = (4, 5, 6), (7, 8)\n",
    "print(tup, nested)"
   ]
  },
  {
   "cell_type": "code",
   "execution_count": 4,
   "metadata": {
    "ExecuteTime": {
     "end_time": "2019-03-01T06:23:40.370632Z",
     "start_time": "2019-03-01T06:23:40.361689Z"
    }
   },
   "outputs": [
    {
     "data": {
      "text/plain": [
       "(4, 0, 2)"
      ]
     },
     "execution_count": 4,
     "metadata": {},
     "output_type": "execute_result"
    }
   ],
   "source": [
    "tuple([4, 0, 2])"
   ]
  },
  {
   "cell_type": "code",
   "execution_count": 5,
   "metadata": {
    "ExecuteTime": {
     "end_time": "2019-03-01T06:24:06.710239Z",
     "start_time": "2019-03-01T06:24:06.706281Z"
    }
   },
   "outputs": [
    {
     "name": "stdout",
     "output_type": "stream",
     "text": [
      "('s', 't', 'r', 'i', 'n', 'g')\n"
     ]
    }
   ],
   "source": [
    "tup = tuple(\"string\")\n",
    "print(tup)\n",
    "print(tup[-1])"
   ]
  },
  {
   "cell_type": "code",
   "execution_count": 8,
   "metadata": {
    "ExecuteTime": {
     "end_time": "2019-03-01T06:25:53.494979Z",
     "start_time": "2019-03-01T06:25:53.489994Z"
    }
   },
   "outputs": [
    {
     "name": "stdout",
     "output_type": "stream",
     "text": [
      "('foo', [1, 2, 3, '4'], True)\n"
     ]
    }
   ],
   "source": [
    "tup = (\"foo\", [1, 2, 3], True)\n",
    "tup[1].append(\"4\")\n",
    "print(tup)"
   ]
  },
  {
   "cell_type": "code",
   "execution_count": 9,
   "metadata": {
    "ExecuteTime": {
     "end_time": "2019-03-01T06:26:33.341532Z",
     "start_time": "2019-03-01T06:26:33.337515Z"
    }
   },
   "outputs": [
    {
     "name": "stdout",
     "output_type": "stream",
     "text": [
      "4 5\n"
     ]
    }
   ],
   "source": [
    "tup = (4, 5, 6)\n",
    "a, b, c = tup\n",
    "print(a, b)"
   ]
  },
  {
   "cell_type": "code",
   "execution_count": 10,
   "metadata": {
    "ExecuteTime": {
     "end_time": "2019-03-01T06:27:05.869485Z",
     "start_time": "2019-03-01T06:27:05.865496Z"
    }
   },
   "outputs": [
    {
     "name": "stdout",
     "output_type": "stream",
     "text": [
      "5 4\n"
     ]
    }
   ],
   "source": [
    "a, b = b, a\n",
    "print(a, b)"
   ]
  },
  {
   "cell_type": "code",
   "execution_count": 11,
   "metadata": {
    "ExecuteTime": {
     "end_time": "2019-03-01T06:28:23.095083Z",
     "start_time": "2019-03-01T06:28:23.090067Z"
    }
   },
   "outputs": [
    {
     "name": "stdout",
     "output_type": "stream",
     "text": [
      "a=1, b=2, c=3\n",
      "a=4, b=5, c=6\n",
      "a=7, b=8, c=9\n"
     ]
    }
   ],
   "source": [
    "seq = [(1, 2, 3), (4, 5, 6), (7, 8, 9)] \n",
    "for a, b, c in seq:\n",
    "    print(\"a={0}, b={1}, c={2}\".format(a, b, c))"
   ]
  },
  {
   "cell_type": "code",
   "execution_count": 12,
   "metadata": {
    "ExecuteTime": {
     "end_time": "2019-03-01T06:30:02.278601Z",
     "start_time": "2019-03-01T06:30:02.273647Z"
    }
   },
   "outputs": [
    {
     "name": "stdout",
     "output_type": "stream",
     "text": [
      "1 2 [3, 4, 5]\n"
     ]
    }
   ],
   "source": [
    "values = 1, 2, 3, 4, 5\n",
    "a, b, *rest = values\n",
    "print(a, b, rest)"
   ]
  },
  {
   "cell_type": "code",
   "execution_count": 14,
   "metadata": {
    "ExecuteTime": {
     "end_time": "2019-03-01T06:33:17.102140Z",
     "start_time": "2019-03-01T06:33:17.098163Z"
    }
   },
   "outputs": [
    {
     "name": "stdout",
     "output_type": "stream",
     "text": [
      "['foo', 'bar', 'baz']\n"
     ]
    }
   ],
   "source": [
    "a_list = [2, 3, 7, None] \n",
    "tup = (\"foo\", \"bar\", \"baz\")\n",
    "b_list = list(tup)\n",
    "print(b_list)"
   ]
  },
  {
   "cell_type": "code",
   "execution_count": 16,
   "metadata": {
    "ExecuteTime": {
     "end_time": "2019-03-01T06:33:42.581982Z",
     "start_time": "2019-03-01T06:33:42.577993Z"
    }
   },
   "outputs": [
    {
     "name": "stdout",
     "output_type": "stream",
     "text": [
      "['foo', 'Hello world', 'baz']\n"
     ]
    }
   ],
   "source": [
    "b_list[1] = \"Hello world\"\n",
    "print(b_list)"
   ]
  },
  {
   "cell_type": "markdown",
   "metadata": {},
   "source": [
    "<p>Python3中，range()返回的是list类型</p>\n",
    "输入：<code>\n",
    "gen = range(10)\n",
    "list_gen = list(gen)\n",
    "print(gen, type(gen))\n",
    "print(list_gen, type(list_gen))\n",
    "</code>\n",
    "\n",
    "输出：<code>\n",
    "([0, 1, 2, 3, 4, 5, 6, 7, 8, 9], <type 'list'>)\n",
    "([0, 1, 2, 3, 4, 5, 6, 7, 8, 9], <type 'list'>)\n",
    "</code>"
   ]
  },
  {
   "cell_type": "code",
   "execution_count": 18,
   "metadata": {
    "ExecuteTime": {
     "end_time": "2019-03-01T06:34:41.910338Z",
     "start_time": "2019-03-01T06:34:41.906349Z"
    }
   },
   "outputs": [
    {
     "name": "stdout",
     "output_type": "stream",
     "text": [
      "range(0, 10) <class 'range'>\n",
      "[0, 1, 2, 3, 4, 5, 6, 7, 8, 9] <class 'list'>\n"
     ]
    }
   ],
   "source": [
    "gen = range(10)\n",
    "list_gen = list(gen)\n",
    "print(gen, type(gen))\n",
    "print(list_gen, type(list_gen))"
   ]
  },
  {
   "cell_type": "code",
   "execution_count": 20,
   "metadata": {
    "ExecuteTime": {
     "end_time": "2019-03-01T06:40:07.453044Z",
     "start_time": "2019-03-01T06:40:07.450023Z"
    }
   },
   "outputs": [],
   "source": [
    "testList = [\"a\", \"b\", \"c\", \"d\", \"string\"]"
   ]
  },
  {
   "cell_type": "code",
   "execution_count": 21,
   "metadata": {
    "ExecuteTime": {
     "end_time": "2019-03-01T06:40:46.828254Z",
     "start_time": "2019-03-01T06:40:46.825235Z"
    }
   },
   "outputs": [],
   "source": [
    "testList.append(\"Python\")\n",
    "testList.insert(-1, \"Java\")"
   ]
  },
  {
   "cell_type": "code",
   "execution_count": 23,
   "metadata": {
    "ExecuteTime": {
     "end_time": "2019-03-01T06:41:07.734227Z",
     "start_time": "2019-03-01T06:41:07.729241Z"
    }
   },
   "outputs": [
    {
     "name": "stdout",
     "output_type": "stream",
     "text": [
      "['a', 'b', 'c', 'd', 'string', 'Java', 'Python']\n"
     ]
    }
   ],
   "source": [
    "print(testList)"
   ]
  },
  {
   "cell_type": "code",
   "execution_count": 25,
   "metadata": {
    "ExecuteTime": {
     "end_time": "2019-03-01T06:42:07.862322Z",
     "start_time": "2019-03-01T06:42:07.858364Z"
    }
   },
   "outputs": [
    {
     "name": "stdout",
     "output_type": "stream",
     "text": [
      "c\n",
      "['a', 'b', 'd', 'string', 'Java', 'Python']\n"
     ]
    }
   ],
   "source": [
    "print(testList.pop(2))\n",
    "print(testList)"
   ]
  },
  {
   "cell_type": "code",
   "execution_count": 26,
   "metadata": {
    "ExecuteTime": {
     "end_time": "2019-03-01T06:42:46.405954Z",
     "start_time": "2019-03-01T06:42:46.401965Z"
    }
   },
   "outputs": [
    {
     "name": "stdout",
     "output_type": "stream",
     "text": [
      "None\n",
      "['b', 'd', 'string', 'Java', 'Python']\n"
     ]
    }
   ],
   "source": [
    "print(testList.remove(\"a\"))\n",
    "print(testList)"
   ]
  },
  {
   "cell_type": "code",
   "execution_count": 28,
   "metadata": {
    "ExecuteTime": {
     "end_time": "2019-03-01T06:44:19.861041Z",
     "start_time": "2019-03-01T06:44:19.857056Z"
    }
   },
   "outputs": [
    {
     "name": "stdout",
     "output_type": "stream",
     "text": [
      "True\n"
     ]
    }
   ],
   "source": [
    "print(\"Python\" in testList)"
   ]
  },
  {
   "cell_type": "markdown",
   "metadata": {},
   "source": [
    "列表的加法是一种<font color=\"red\"><strong>浅复制</strong></font>"
   ]
  },
  {
   "cell_type": "code",
   "execution_count": 39,
   "metadata": {
    "ExecuteTime": {
     "end_time": "2019-03-01T06:57:21.001605Z",
     "start_time": "2019-03-01T06:57:20.994623Z"
    }
   },
   "outputs": [
    {
     "name": "stdout",
     "output_type": "stream",
     "text": [
      "['Python', 'Java', 'C++'] [['张三', '李四'], 'a', 'b'] ['Python', 'Java', 'C++', ['张三', '李四'], 'a', 'b']\n",
      "2270655934512\n",
      "2270656096384\n",
      "['string', 'Java', 'C++'] [['张三', '李四'], 'a', 'b'] ['Python', 'Java', 'C++', ['张三', '李四'], 'a', 'b']\n",
      "2270656096384 2270691783488 2270730763768 2270733251144 2270655785088 2270655783408\n",
      "2270655934512 2270691783488 2270730763768 2270733251144 2270655785088 2270655783408\n"
     ]
    }
   ],
   "source": [
    "list1 = [\"Python\", \"Java\", \"C++\"]\n",
    "list2 = [[\"张三\", \"李四\"], \"a\", \"b\"]\n",
    "listA = list1 + list2\n",
    "print(list1, list2, listA)\n",
    "print \n",
    "\n",
    "print(id(list1[0]))\n",
    "list1[0] = \"string\"\n",
    "print(id(list1[0]))\n",
    "print(list1, list2, listA)\n",
    "print\n",
    "\n",
    "print(id(list1[0]), id(list1[1]), id(list1[2]), id(list2[0]), id(list2[1]), id(list2[2]))\n",
    "print(id(listA[0]), id(listA[1]), id(listA[2]), id(listA[3]), id(listA[4]), id(listA[-1]))"
   ]
  },
  {
   "cell_type": "code",
   "execution_count": null,
   "metadata": {},
   "outputs": [],
   "source": [
    "import bisect\n",
    "c = [1, 2, 3, 4, 5, 6, 7]\n",
    "bisect.bisect(c, 2)\n",
    "bisect.insort(c, 6)"
   ]
  },
  {
   "cell_type": "code",
   "execution_count": 42,
   "metadata": {
    "ExecuteTime": {
     "end_time": "2019-03-01T07:02:27.965255Z",
     "start_time": "2019-03-01T07:02:27.961266Z"
    }
   },
   "outputs": [
    {
     "name": "stdout",
     "output_type": "stream",
     "text": [
      "[1, 0, 6, 5, 7, 3, 2, 7]\n"
     ]
    }
   ],
   "source": [
    "seq = [7, 2, 3, 7, 5, 6, 0, 1]\n",
    "seq = seq[::-1]\n",
    "print(seq)"
   ]
  },
  {
   "cell_type": "markdown",
   "metadata": {},
   "source": [
    "enumerate() 函数用于将一个可遍历的数据对象(如列表、元组或字符串)组合为一个索引序列，同时列出数据和数据下标，一般用在 for 循环当中"
   ]
  },
  {
   "cell_type": "code",
   "execution_count": 47,
   "metadata": {
    "ExecuteTime": {
     "end_time": "2019-03-01T07:18:23.154951Z",
     "start_time": "2019-03-01T07:18:23.149993Z"
    }
   },
   "outputs": [
    {
     "name": "stdout",
     "output_type": "stream",
     "text": [
      "编号0的元素为one\n",
      "编号1的元素为two\n",
      "编号2的元素为three\n",
      "\n",
      "编号0的元素为Python\n",
      "编号1的元素为JavaScript\n",
      "编号2的元素为C++\n",
      "\n"
     ]
    }
   ],
   "source": [
    "list1 = ['one', 'two', 'three']\n",
    "tupele1 = (\"Python\", \"JavaScript\", \"C++\")\n",
    "\n",
    "for index, element in enumerate(list1):\n",
    "    print(\"编号{0}的元素为{1}\".format(index, element))\n",
    "print()\n",
    "\n",
    "for index, element in enumerate(tupele1):\n",
    "    print(\"编号{0}的元素为{1}\".format(index, element))\n",
    "print()"
   ]
  },
  {
   "cell_type": "code",
   "execution_count": 48,
   "metadata": {
    "ExecuteTime": {
     "end_time": "2019-03-01T07:20:57.153490Z",
     "start_time": "2019-03-01T07:20:57.150473Z"
    }
   },
   "outputs": [
    {
     "name": "stdout",
     "output_type": "stream",
     "text": [
      "0: foo, one\n",
      "1: bar, two\n",
      "2: baz, three\n"
     ]
    }
   ],
   "source": [
    "seq1 = ['foo', 'bar', 'baz']\n",
    "seq2 = ['one', 'two', 'three']\n",
    "for i, (a, b) in enumerate(zip(seq1, seq2)): \n",
    "    print('{0}: {1}, {2}'.format(i, a, b)) "
   ]
  },
  {
   "cell_type": "code",
   "execution_count": 49,
   "metadata": {
    "ExecuteTime": {
     "end_time": "2019-03-01T07:22:33.681887Z",
     "start_time": "2019-03-01T07:22:33.677927Z"
    }
   },
   "outputs": [
    {
     "name": "stdout",
     "output_type": "stream",
     "text": [
      "('Nolan', 'Roger', 'Schilling')\n",
      "('Ryan', 'Clemens', 'Curt')\n"
     ]
    }
   ],
   "source": [
    "pitchers = [('Nolan', 'Ryan'), ('Roger', 'Clemens'), ('Schilling', 'Curt')]\n",
    "first_names, last_names = zip(*pitchers) \n",
    "print(first_names)\n",
    "print(last_names)"
   ]
  },
  {
   "cell_type": "code",
   "execution_count": 50,
   "metadata": {
    "ExecuteTime": {
     "end_time": "2019-03-01T07:23:04.178825Z",
     "start_time": "2019-03-01T07:23:04.174841Z"
    }
   },
   "outputs": [
    {
     "name": "stdout",
     "output_type": "stream",
     "text": [
      "[9, 8, 7, 6, 5, 4, 3, 2, 1, 0]\n"
     ]
    }
   ],
   "source": [
    "print(list(reversed(range(10))))"
   ]
  },
  {
   "cell_type": "code",
   "execution_count": 56,
   "metadata": {
    "ExecuteTime": {
     "end_time": "2019-03-01T07:26:43.882395Z",
     "start_time": "2019-03-01T07:26:43.878406Z"
    }
   },
   "outputs": [
    {
     "name": "stdout",
     "output_type": "stream",
     "text": [
      "{'a': 'value', 'b': [1, 2, 3]}\n"
     ]
    }
   ],
   "source": [
    "dict1 = {}\n",
    "dict1[\"a\"] = \"value\"\n",
    "dict1[\"b\"] = [1, 2, 3]\n",
    "print(dict1)"
   ]
  },
  {
   "cell_type": "code",
   "execution_count": 57,
   "metadata": {
    "ExecuteTime": {
     "end_time": "2019-03-01T07:26:45.497019Z",
     "start_time": "2019-03-01T07:26:45.493999Z"
    }
   },
   "outputs": [
    {
     "name": "stdout",
     "output_type": "stream",
     "text": [
      "True\n"
     ]
    }
   ],
   "source": [
    "print(\"b\" in dict1)"
   ]
  },
  {
   "cell_type": "code",
   "execution_count": 58,
   "metadata": {
    "ExecuteTime": {
     "end_time": "2019-03-01T07:26:46.938800Z",
     "start_time": "2019-03-01T07:26:46.933813Z"
    }
   },
   "outputs": [
    {
     "name": "stdout",
     "output_type": "stream",
     "text": [
      "{'a': 'value'}\n",
      "\n",
      "value\n",
      "{}\n",
      "\n"
     ]
    }
   ],
   "source": [
    "del dict1[\"b\"]\n",
    "print(dict1)\n",
    "print()\n",
    "\n",
    "print(dict1.pop(\"a\"))\n",
    "print(dict1)\n",
    "print()"
   ]
  },
  {
   "cell_type": "code",
   "execution_count": 59,
   "metadata": {
    "ExecuteTime": {
     "end_time": "2019-03-01T07:28:05.402780Z",
     "start_time": "2019-03-01T07:28:05.397799Z"
    }
   },
   "outputs": [
    {
     "name": "stdout",
     "output_type": "stream",
     "text": [
      "{'a': '1', 'b': '2', 'A': 1, 'B': 2} {'A': 1, 'B': 2}\n"
     ]
    }
   ],
   "source": [
    "dict1 = {\"a\":\"1\", \"b\":\"2\"}\n",
    "dict2 = {\"A\":1, \"B\":2}\n",
    "dict1.update(dict2)\n",
    "print(dict1, dict2)"
   ]
  },
  {
   "cell_type": "markdown",
   "metadata": {},
   "source": [
    "hash函数检测一个对象是否是可哈希的（可被用作字典的键）"
   ]
  },
  {
   "cell_type": "code",
   "execution_count": 60,
   "metadata": {
    "ExecuteTime": {
     "end_time": "2019-03-01T07:30:45.341276Z",
     "start_time": "2019-03-01T07:30:45.333297Z"
    }
   },
   "outputs": [
    {
     "ename": "TypeError",
     "evalue": "unhashable type: 'list'",
     "output_type": "error",
     "traceback": [
      "\u001b[1;31m---------------------------------------------------------------------------\u001b[0m",
      "\u001b[1;31mTypeError\u001b[0m                                 Traceback (most recent call last)",
      "\u001b[1;32m<ipython-input-60-0e060b80d15f>\u001b[0m in \u001b[0;36m<module>\u001b[1;34m\u001b[0m\n\u001b[0;32m      1\u001b[0m \u001b[0mhash\u001b[0m\u001b[1;33m(\u001b[0m\u001b[1;34m\"strings\"\u001b[0m\u001b[1;33m)\u001b[0m\u001b[1;33m\u001b[0m\u001b[1;33m\u001b[0m\u001b[0m\n\u001b[1;32m----> 2\u001b[1;33m \u001b[0mhash\u001b[0m\u001b[1;33m(\u001b[0m\u001b[1;33m[\u001b[0m\u001b[1;36m1\u001b[0m\u001b[1;33m,\u001b[0m \u001b[1;36m2\u001b[0m\u001b[1;33m,\u001b[0m \u001b[1;36m3\u001b[0m\u001b[1;33m]\u001b[0m\u001b[1;33m)\u001b[0m\u001b[1;33m\u001b[0m\u001b[1;33m\u001b[0m\u001b[0m\n\u001b[0m",
      "\u001b[1;31mTypeError\u001b[0m: unhashable type: 'list'"
     ]
    }
   ],
   "source": [
    "hash(\"strings\")\n",
    "hash([1, 2, 3])"
   ]
  },
  {
   "cell_type": "code",
   "execution_count": 64,
   "metadata": {
    "ExecuteTime": {
     "end_time": "2019-03-01T07:34:26.105694Z",
     "start_time": "2019-03-01T07:34:26.100708Z"
    }
   },
   "outputs": [
    {
     "name": "stdout",
     "output_type": "stream",
     "text": [
      "{1, 2, 3, 4, 5, 6, 7, 8}\n",
      "True\n",
      "False\n"
     ]
    }
   ],
   "source": [
    "a = {1, 2, 3, 4, 5}\n",
    "b = {3, 4, 5, 6, 7, 8}\n",
    "a |= b\n",
    "print(a)\n",
    "print(a.issuperset({1, 2, 3}))\n",
    "print(a.issubset(b))"
   ]
  },
  {
   "cell_type": "code",
   "execution_count": 78,
   "metadata": {
    "ExecuteTime": {
     "end_time": "2019-03-01T07:45:22.500149Z",
     "start_time": "2019-03-01T07:45:22.493148Z"
    }
   },
   "outputs": [
    {
     "name": "stdout",
     "output_type": "stream",
     "text": [
      "[6, 10, 3, 4]\n",
      "{'Python': 6, 'Javascript': 10, 'C++': 3, 'Java': 4}\n",
      "{10, 3, 4, 6}\n"
     ]
    },
    {
     "data": {
      "text/plain": [
       "{3, 4, 6, 10}"
      ]
     },
     "execution_count": 78,
     "metadata": {},
     "output_type": "execute_result"
    }
   ],
   "source": [
    "strs = [\"Python\", \"Javascript\", \"C++\", \"Java\"]\n",
    "strLenList = [ len(i) for i in strs]\n",
    "strLenDict = {ele: len(ele) for ele in strs}\n",
    "strLenSet = {len(ele) for ele in strs}\n",
    "print(strLenList)\n",
    "print(strLenDict)\n",
    "print(strLenSet)\n",
    "set(map(len, strs)) "
   ]
  },
  {
   "cell_type": "code",
   "execution_count": 87,
   "metadata": {
    "ExecuteTime": {
     "end_time": "2019-03-01T07:53:05.648945Z",
     "start_time": "2019-03-01T07:53:05.644924Z"
    }
   },
   "outputs": [
    {
     "name": "stdout",
     "output_type": "stream",
     "text": [
      "[1, 2, 3, 4, 5, 6, 7, 8, 9]\n",
      "[[1, 2, 3], [4, 5, 6], [7, 8, 9]]\n"
     ]
    }
   ],
   "source": [
    "tuplesList = [(1, 2, 3), (4, 5, 6), (7, 8, 9)]\n",
    "print([i for element in tuplesList for i in element ])\n",
    "print([[i for i in element] for element in tuplesList])"
   ]
  },
  {
   "cell_type": "code",
   "execution_count": 90,
   "metadata": {
    "ExecuteTime": {
     "end_time": "2019-03-01T07:55:56.043100Z",
     "start_time": "2019-03-01T07:55:56.037116Z"
    }
   },
   "outputs": [
    {
     "name": "stdout",
     "output_type": "stream",
     "text": [
      "0.06363636363636363\n",
      "35.49\n",
      "45.0\n",
      "0.0\n"
     ]
    }
   ],
   "source": [
    "def function(x, y, z=1.5): \n",
    "    if z > 1: \n",
    "        return z * (x + y) \n",
    "    else: \n",
    "        return z / (x + y)\n",
    "\n",
    "print(function(5, 6, z=0.7))\n",
    "print(function(3.14, 7, 3.5)) \n",
    "print(function(10, 20))\n",
    "\n",
    "func = function\n",
    "print(func(0, 1, 0))"
   ]
  },
  {
   "cell_type": "code",
   "execution_count": 95,
   "metadata": {
    "ExecuteTime": {
     "end_time": "2019-03-01T08:00:03.289665Z",
     "start_time": "2019-03-01T08:00:03.284679Z"
    }
   },
   "outputs": [
    {
     "name": "stdout",
     "output_type": "stream",
     "text": [
      "['C++', 'Java', 'Python', 'Javascript']\n"
     ]
    }
   ],
   "source": [
    "strs.sort(key=lambda x: len(x))\n",
    "print(strs)"
   ]
  },
  {
   "cell_type": "code",
   "execution_count": 99,
   "metadata": {
    "ExecuteTime": {
     "end_time": "2019-03-01T08:03:54.475036Z",
     "start_time": "2019-03-01T08:03:54.469023Z"
    }
   },
   "outputs": [
    {
     "name": "stdout",
     "output_type": "stream",
     "text": [
      "0 1 4 9 16 25 36 49 64 81 100 121 144 169 196 225 256 289 324 361 400 441 484 529 576 625 676 729 784 841 900 961 1024 1089 1156 1225 1296 1369 1444 1521 1600 1681 1764 1849 1936 2025 2116 2209 2304 2401 2500 2601 2704 2809 2916 3025 3136 3249 3364 3481 3600 3721 3844 3969 4096 4225 4356 4489 4624 4761 4900 5041 5184 5329 5476 5625 5776 5929 6084 6241 6400 6561 6724 6889 7056 7225 7396 7569 7744 7921 8100 8281 8464 8649 8836 9025 9216 9409 9604 9801 "
     ]
    }
   ],
   "source": [
    "def squares(n=10): \n",
    "    print('Generating squares from 1 to {0}'.format(n ** 2)) \n",
    "    for i in range(1, n + 1): \n",
    "        yield i ** 2\n",
    "        \n",
    "for x in gen: \n",
    "    print(x, end=' ') \n",
    "    \n",
    "gen = (x ** 2 for x in range(100))"
   ]
  },
  {
   "cell_type": "code",
   "execution_count": 103,
   "metadata": {
    "ExecuteTime": {
     "end_time": "2019-03-01T08:10:14.521247Z",
     "start_time": "2019-03-01T08:10:14.517285Z"
    }
   },
   "outputs": [
    {
     "name": "stdout",
     "output_type": "stream",
     "text": [
      "('division by zero',)\n"
     ]
    }
   ],
   "source": [
    "try:\n",
    "    print(1/0) \n",
    "    \n",
    "except ZeroDivisionError as e:\n",
    "    print(e.args)\n"
   ]
  }
 ],
 "metadata": {
  "kernelspec": {
   "display_name": "Python 3",
   "language": "python",
   "name": "python3"
  },
  "language_info": {
   "codemirror_mode": {
    "name": "ipython",
    "version": 3
   },
   "file_extension": ".py",
   "mimetype": "text/x-python",
   "name": "python",
   "nbconvert_exporter": "python",
   "pygments_lexer": "ipython3",
   "version": "3.7.1"
  },
  "toc": {
   "base_numbering": 1,
   "nav_menu": {},
   "number_sections": true,
   "sideBar": true,
   "skip_h1_title": false,
   "title_cell": "Table of Contents",
   "title_sidebar": "Contents",
   "toc_cell": false,
   "toc_position": {},
   "toc_section_display": true,
   "toc_window_display": false
  }
 },
 "nbformat": 4,
 "nbformat_minor": 2
}
